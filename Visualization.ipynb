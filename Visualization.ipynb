{
 "cells": [
  {
   "cell_type": "code",
   "execution_count": null,
   "metadata": {
    "collapsed": true
   },
   "outputs": [],
   "source": [
    "import pandas as pd\n",
    "import numpy as np\n",
    "import matplotlib.pyplot as plt\n",
    "%matplotlib inline"
   ]
  },
  {
   "cell_type": "code",
   "execution_count": null,
   "metadata": {
    "collapsed": true
   },
   "outputs": [],
   "source": [
    "### UN Data: Hydrofluorocarbon Emissions in kTon CO2, 1990 - 2014"
   ]
  },
  {
   "cell_type": "code",
   "execution_count": null,
   "metadata": {
    "collapsed": true
   },
   "outputs": [],
   "source": [
    "df = pd.read_csv('UNdata_Hydrofluorocarbon_Emissions.csv')\n",
    "df = df.rename(columns={'Country or Area': 'Country', 'Value': 'Emissions'})\n",
    "#df"
   ]
  },
  {
   "cell_type": "code",
   "execution_count": null,
   "metadata": {
    "collapsed": true
   },
   "outputs": [],
   "source": [
    "### Plotting emissions for the given years for the four countries listed below."
   ]
  },
  {
   "cell_type": "code",
   "execution_count": null,
   "metadata": {
    "scrolled": false
   },
   "outputs": [],
   "source": [
    "plt.plot(df[df['Country']=='Japan']['Year'], df[df['Country']=='Japan']['Emissions'], color = 'red', label = 'Japan')\n",
    "plt.plot(df[df['Country']=='United States of America']['Year'], df[df['Country']=='United States of America']['Emissions'], color = 'blue', label = 'United States')\n",
    "plt.plot(df[df['Country']=='Russian Federation']['Year'], df[df['Country']=='Russian Federation']['Emissions'], color = 'green', label  = 'Russian Federation')\n",
    "plt.plot(df[df['Country']=='Germany']['Year'], df[df['Country']=='Germany']['Emissions'], color = 'purple', label = 'Germany')\n",
    "\n",
    "plt.xlabel('Year')\n",
    "plt.ylabel('Emissions (kT)')\n",
    "plt.title('UN Data for Emissions (kT) by Country')\n",
    "plt.legend()\n",
    "\n",
    "plt.show()"
   ]
  },
  {
   "cell_type": "code",
   "execution_count": null,
   "metadata": {
    "collapsed": true
   },
   "outputs": [],
   "source": [
    "### Plotting the same data, but for \"n\" random countries from the dataset"
   ]
  },
  {
   "cell_type": "code",
   "execution_count": null,
   "metadata": {
    "scrolled": true
   },
   "outputs": [],
   "source": [
    "n_country = 5 # How many countries would you like to see? (max 10)\n",
    "\n",
    "\n",
    "countries = list(np.random.choice(pd.Series.unique(df['Country']), n_country, replace = False))\n",
    "color_count = 0\n",
    "for country in countries:\n",
    "    plt.plot(df[df['Country']==country]['Year'], \n",
    "             df[df['Country']==country]['Emissions'], \n",
    "             color = 'C' + str(color_count), \n",
    "             label = country)\n",
    "    color_count += 1\n",
    "\n",
    "plt.xlabel('Year')\n",
    "plt.ylabel('Emissions (kT)')\n",
    "plt.title('UN Data for Emissions (kT) by Country')\n",
    "plt.legend()\n",
    "\n",
    "plt.show()"
   ]
  },
  {
   "cell_type": "code",
   "execution_count": null,
   "metadata": {
    "collapsed": true
   },
   "outputs": [],
   "source": [
    "### Plotting Emissions from the five most and least polluting countries"
   ]
  },
  {
   "cell_type": "code",
   "execution_count": null,
   "metadata": {},
   "outputs": [],
   "source": [
    "n_country = 5 # How many countries would you like to see? \n",
    "\n",
    "plt.figure(figsize=(12,6))\n",
    "\n",
    "countries_top = list(df.groupby('Country').mean().sort_values(['Emissions'], ascending = False).index[:n_country])\n",
    "plt.subplot(1,2,1)\n",
    "color_count = 0\n",
    "for country in countries_top:\n",
    "    plt.plot(df[df['Country']==country]['Year'], \n",
    "             df[df['Country']==country]['Emissions'], \n",
    "             color = 'C' + str(color_count), \n",
    "             label = country)\n",
    "    color_count += 1\n",
    "plt.xlabel('Year')\n",
    "plt.ylabel('Emissions (kT)')\n",
    "plt.ylim((0,160000))\n",
    "plt.title('UN Data for Emissions (kT) for the {} Most Polluting Countries'.format(n_country))\n",
    "plt.legend()\n",
    "    \n",
    "countries_bot = list(df.groupby('Country').mean().sort_values(['Emissions'], ascending = True).index[:n_country])\n",
    "plt.subplot(1,2,2)\n",
    "color_count = 0\n",
    "for country in countries_bot:\n",
    "    plt.plot(df[df['Country']==country]['Year'], \n",
    "             df[df['Country']==country]['Emissions'], \n",
    "             color = 'C' + str(color_count), \n",
    "             label = country)\n",
    "    color_count += 1\n",
    "    \n",
    "plt.xlabel('Year')\n",
    "plt.ylabel('Emissions (kT)')\n",
    "plt.ylim((0,400))\n",
    "plt.title('UN Data for Emissions (kT) for the {} Least Polluting Countries'.format(n_country))\n",
    "plt.legend()\n",
    "\n",
    "plt.tight_layout()\n",
    "plt.show()"
   ]
  },
  {
   "cell_type": "code",
   "execution_count": null,
   "metadata": {
    "collapsed": true
   },
   "outputs": [],
   "source": [
    "### Data from the World Happiness Report for 2017"
   ]
  },
  {
   "cell_type": "code",
   "execution_count": null,
   "metadata": {
    "collapsed": true,
    "scrolled": false
   },
   "outputs": [],
   "source": [
    "df2 = pd.read_csv(\"Happiness_2017.csv\")\n",
    "df2 = df2.rename_axis(df2['Country'])\n",
    "del df2['Country']\n",
    "#df2"
   ]
  },
  {
   "cell_type": "code",
   "execution_count": null,
   "metadata": {
    "collapsed": true
   },
   "outputs": [],
   "source": [
    "### Visualize the data, comparing one indicator to Happiness, with one country highlighted."
   ]
  },
  {
   "cell_type": "code",
   "execution_count": null,
   "metadata": {},
   "outputs": [],
   "source": [
    "choose_col = 'Family' # Choose the column to look at\n",
    "choose_country = 'South Africa' # Choose country to highlight\n",
    "\n",
    "\n",
    "cmap = ['b'] * df2.shape[0]\n",
    "cmap[df2.loc[choose_country, 'Happiness.Rank'] - 1] = 'r' # Highlights selected country in red\n",
    "\n",
    "plt.scatter(df2[choose_col], df2['Happiness.Score'], color = cmap)\n",
    "plt.xlabel(choose_col)\n",
    "plt.ylabel('Happiness Score')\n",
    "\n",
    "plt.title('Happiness Score vs. {}, with {} in Red'.format(choose_col, choose_country))\n",
    "\n",
    "plt.show()"
   ]
  },
  {
   "cell_type": "code",
   "execution_count": null,
   "metadata": {
    "collapsed": true
   },
   "outputs": [],
   "source": [
    "### Plot Happiness as a function of six indicators provided in the report"
   ]
  },
  {
   "cell_type": "code",
   "execution_count": null,
   "metadata": {},
   "outputs": [],
   "source": [
    "plt.figure(figsize=(16,8))\n",
    "col_names = list(df2)[4:10]\n",
    "\n",
    "for i in range(len(col_names)):\n",
    "    plt.subplot(2, 3, i+1)\n",
    "    plt.scatter(df2[col_names[i]], df2['Happiness.Score'])\n",
    "    plt.xlabel(col_names[i])\n",
    "    plt.ylabel('Happiness.Score')\n",
    "    plt.title('Happiness vs {}'.format(col_names[i])) \n",
    "\n",
    "plt.tight_layout()\n",
    "plt.show()"
   ]
  },
  {
   "cell_type": "code",
   "execution_count": null,
   "metadata": {
    "collapsed": true
   },
   "outputs": [],
   "source": []
  }
 ],
 "metadata": {
  "kernelspec": {
   "display_name": "Python 3",
   "language": "python",
   "name": "python3"
  },
  "language_info": {
   "codemirror_mode": {
    "name": "ipython",
    "version": 3
   },
   "file_extension": ".py",
   "mimetype": "text/x-python",
   "name": "python",
   "nbconvert_exporter": "python",
   "pygments_lexer": "ipython3",
   "version": "3.6.2"
  }
 },
 "nbformat": 4,
 "nbformat_minor": 2
}
